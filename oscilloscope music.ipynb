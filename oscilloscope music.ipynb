{
 "cells": [
  {
   "cell_type": "code",
   "execution_count": null,
   "metadata": {},
   "outputs": [],
   "source": [
    "using Pkg\n",
    "Pkg.activate(@__DIR__)"
   ]
  },
  {
   "cell_type": "code",
   "execution_count": null,
   "metadata": {},
   "outputs": [],
   "source": [
    "using WAV\n",
    "using Images\n",
    "using ImageMagick\n",
    "using ProgressMeter\n",
    "using VideoIO"
   ]
  },
  {
   "cell_type": "code",
   "execution_count": null,
   "metadata": {},
   "outputs": [],
   "source": [
    "video_file = \"C. Allen _ Globetrotter (Oscilloscope Music)-J2YQD8Go_Hc.mkv\""
   ]
  },
  {
   "cell_type": "code",
   "execution_count": null,
   "metadata": {},
   "outputs": [],
   "source": [
    "video_file = \"Jerobeam Fenderson - Blocks-0KDekS4YUy4.webm\""
   ]
  },
  {
   "cell_type": "code",
   "execution_count": null,
   "metadata": {},
   "outputs": [],
   "source": [
    "run(`ffmpeg -i $video_file -vn -ab 128k -ar 44100 -y blocks.wav`)"
   ]
  },
  {
   "cell_type": "code",
   "execution_count": null,
   "metadata": {},
   "outputs": [],
   "source": [
    "samples, fs = wavread(\"blocks.wav\");"
   ]
  },
  {
   "cell_type": "code",
   "execution_count": null,
   "metadata": {},
   "outputs": [],
   "source": [
    "function add_sample!(img, c1, c2)\n",
    "    img[round(Int, size(img, 1) / 2 - c2 * (size(img, 1) - 2) / 2),\n",
    "        round(Int, size(img, 2) / 2 + c1 * (size(img, 2) - 2) / 2)] = 1\n",
    "end"
   ]
  },
  {
   "cell_type": "code",
   "execution_count": null,
   "metadata": {},
   "outputs": [],
   "source": [
    "if !isdir(\"out\")\n",
    "    mkdir(\"out\")\n",
    "end"
   ]
  },
  {
   "cell_type": "code",
   "execution_count": null,
   "metadata": {},
   "outputs": [],
   "source": [
    "function render(filename, samples, sample_freq, framerate=30)\n",
    "    img = zeros(Gray{Float32}, 400, 400)\n",
    "    encoder = prepareencoder(RGB{N0f8}.(img), framerate=framerate)\n",
    "    io = open(\"temp.stream\", \"w\")\n",
    "    frame = 1\n",
    "    interval = round(Int, sample_freq / framerate)\n",
    "    @showprogress for i in (80 * 44000):(100 * 44000)\n",
    "        img .*= 0.9995\n",
    "        add_sample!(img, samples[i, 1], samples[i, 2])\n",
    "        if i % interval == 0\n",
    "            appendencode!(encoder, io, RGB{N0f8}.(img), frame)\n",
    "            frame += 1\n",
    "        end\n",
    "    end\n",
    "    finishencode!(encoder, io)\n",
    "    close(io)\n",
    "    mux(\"temp.stream\", filename, framerate)\n",
    "end\n",
    "        "
   ]
  },
  {
   "cell_type": "code",
   "execution_count": null,
   "metadata": {},
   "outputs": [],
   "source": [
    "render(\"out/blocks.mp4\", samples, fs)"
   ]
  },
  {
   "cell_type": "code",
   "execution_count": null,
   "metadata": {},
   "outputs": [],
   "source": []
  }
 ],
 "metadata": {
  "kernelspec": {
   "display_name": "Julia 1.1.0",
   "language": "julia",
   "name": "julia-1.1"
  },
  "language_info": {
   "file_extension": ".jl",
   "mimetype": "application/julia",
   "name": "julia",
   "version": "1.1.0"
  }
 },
 "nbformat": 4,
 "nbformat_minor": 2
}
